{
 "cells": [
  {
   "cell_type": "code",
   "execution_count": 1,
   "metadata": {},
   "outputs": [],
   "source": [
    "import easydict\n",
    "import numpy as np\n",
    "import torch\n",
    "import torch.nn.functional as F\n",
    "from torch.utils.data import DataLoader\n",
    "from tqdm import tqdm\n",
    "\n",
    "from maml.utils import load_dataset, load_model\n",
    "\n",
    "%load_ext autoreload\n",
    "%autoreload 2"
   ]
  },
  {
   "cell_type": "code",
   "execution_count": 2,
   "metadata": {},
   "outputs": [],
   "source": [
    "args = easydict.EasyDict({'folder': '/home/osilab7/hdd/ml_dataset',\n",
    "                          'dataset': 'miniimagenet',\n",
    "                          'model': 'resnet',\n",
    "                          'device': 'cuda:1',\n",
    "                          'download': True,\n",
    "                          'num_shots': 5,\n",
    "                          'num_ways': 5,\n",
    "                          'meta_lr': 1e-3,\n",
    "                          'first_order': False,\n",
    "                          'extractor_step_size': 0.5,\n",
    "                          'classifier_step_size': 0.5,\n",
    "                          'hidden_size': 64,\n",
    "                          'output_folder': './output/',\n",
    "                          'save_name': None,\n",
    "                          'batch_size': 4,\n",
    "                          'batch_iter': 1200,\n",
    "                          'train_batches': 50,\n",
    "                          'valid_batches': 25,\n",
    "                          'test_batches': 2500,\n",
    "                          'num_workers': 1,\n",
    "                          'init': False})"
   ]
  },
  {
   "cell_type": "code",
   "execution_count": 3,
   "metadata": {},
   "outputs": [
    {
     "name": "stderr",
     "output_type": "stream",
     "text": [
      " 10%|█         | 1/10 [00:50<07:38, 50.96s/it]"
     ]
    },
    {
     "name": "stdout",
     "output_type": "stream",
     "text": [
      "0.15260416666666668\n"
     ]
    },
    {
     "name": "stderr",
     "output_type": "stream",
     "text": [
      " 20%|██        | 2/10 [01:42<06:50, 51.27s/it]"
     ]
    },
    {
     "name": "stdout",
     "output_type": "stream",
     "text": [
      "0.2998177083333333\n"
     ]
    },
    {
     "name": "stderr",
     "output_type": "stream",
     "text": [
      " 30%|███       | 3/10 [02:34<05:59, 51.40s/it]"
     ]
    },
    {
     "name": "stdout",
     "output_type": "stream",
     "text": [
      "0.4059375\n"
     ]
    },
    {
     "name": "stderr",
     "output_type": "stream",
     "text": [
      " 40%|████      | 4/10 [03:25<05:08, 51.38s/it]"
     ]
    },
    {
     "name": "stdout",
     "output_type": "stream",
     "text": [
      "0.47869791666666667\n"
     ]
    },
    {
     "name": "stderr",
     "output_type": "stream",
     "text": [
      " 50%|█████     | 5/10 [04:17<04:16, 51.32s/it]"
     ]
    },
    {
     "name": "stdout",
     "output_type": "stream",
     "text": [
      "0.5309114583333333\n"
     ]
    },
    {
     "name": "stderr",
     "output_type": "stream",
     "text": [
      " 60%|██████    | 6/10 [05:08<03:24, 51.24s/it]"
     ]
    },
    {
     "name": "stdout",
     "output_type": "stream",
     "text": [
      "0.5723177083333333\n"
     ]
    },
    {
     "name": "stderr",
     "output_type": "stream",
     "text": [
      " 70%|███████   | 7/10 [05:59<02:33, 51.17s/it]"
     ]
    },
    {
     "name": "stdout",
     "output_type": "stream",
     "text": [
      "0.6083333333333333\n"
     ]
    },
    {
     "name": "stderr",
     "output_type": "stream",
     "text": [
      " 80%|████████  | 8/10 [06:50<01:42, 51.11s/it]"
     ]
    },
    {
     "name": "stdout",
     "output_type": "stream",
     "text": [
      "0.6422135416666667\n"
     ]
    },
    {
     "name": "stderr",
     "output_type": "stream",
     "text": [
      " 90%|█████████ | 9/10 [07:41<00:51, 51.07s/it]"
     ]
    },
    {
     "name": "stdout",
     "output_type": "stream",
     "text": [
      "0.67328125\n"
     ]
    },
    {
     "name": "stderr",
     "output_type": "stream",
     "text": [
      "100%|██████████| 10/10 [08:32<00:00, 51.22s/it]"
     ]
    },
    {
     "name": "stdout",
     "output_type": "stream",
     "text": [
      "0.7017447916666667\n"
     ]
    },
    {
     "name": "stderr",
     "output_type": "stream",
     "text": [
      "\n"
     ]
    }
   ],
   "source": [
    "device = torch.device(args.device)\n",
    "\n",
    "args.num_ways = 64\n",
    "pretrained_model = load_model(args)\n",
    "pretrained_model_optimizer = torch.optim.Adam(pretrained_model.parameters(), lr=1e-2)\n",
    "pretrained_model.to(device=device)\n",
    "pretrained_model.train()\n",
    "\n",
    "num_epochs = 10\n",
    "\n",
    "dataset = load_dataset(args, 'meta_train')\n",
    "data = torch.cat([torch.from_numpy(np.array(dataset.dataset.__getitem__(i).data))/255. for i in range(args.num_ways)], dim=0).permute(0, 3, 1, 2).float()\n",
    "labels = torch.tensor(sum([[i]*600 for i in range(args.num_ways)], []))\n",
    "\n",
    "dataloader = DataLoader(dataset=list(zip(data,labels)), batch_size=128, shuffle=True)\n",
    "for _ in tqdm(range(num_epochs)):\n",
    "    accuracy = []\n",
    "    for input, target in dataloader:\n",
    "        input = input.type(torch.FloatTensor).to(device=device)\n",
    "        target = target.type(torch.LongTensor).to(device=device)\n",
    "\n",
    "        features, logit = pretrained_model(input)\n",
    "        loss = F.cross_entropy(logit, target)\n",
    "        accuracy += (target==torch.max(logit, dim=1)[1]).tolist()\n",
    "\n",
    "        pretrained_model_optimizer.zero_grad()\n",
    "        loss.backward()\n",
    "        pretrained_model_optimizer.step()\n",
    "    print (sum(accuracy)/float(len(accuracy)))\n",
    "torch.save(pretrained_model.state_dict(), 'resnet_pretrained.pt')"
   ]
  },
  {
   "cell_type": "code",
   "execution_count": null,
   "metadata": {},
   "outputs": [],
   "source": []
  }
 ],
 "metadata": {
  "kernelspec": {
   "display_name": "Python 3",
   "language": "python",
   "name": "python3"
  },
  "language_info": {
   "codemirror_mode": {
    "name": "ipython",
    "version": 3
   },
   "file_extension": ".py",
   "mimetype": "text/x-python",
   "name": "python",
   "nbconvert_exporter": "python",
   "pygments_lexer": "ipython3",
   "version": "3.7.6"
  }
 },
 "nbformat": 4,
 "nbformat_minor": 4
}
