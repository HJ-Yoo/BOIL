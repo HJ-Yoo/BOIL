{
 "cells": [
  {
   "cell_type": "code",
   "execution_count": null,
   "metadata": {},
   "outputs": [],
   "source": [
    "import numpy as np\n",
    "import pandas as pd\n",
    "import matplotlib.pyplot as plt"
   ]
  },
  {
   "cell_type": "code",
   "execution_count": null,
   "metadata": {},
   "outputs": [],
   "source": [
    "def plot_logs(log_type, logs, ax):\n",
    "    if log_type == 'error':\n",
    "        train_log = np.array(logs['train_error'])\n",
    "        valid_log = np.array(logs['valid_error'])\n",
    "        test_log = np.array(logs['test_error'])\n",
    "        ymin = 0.0\n",
    "        ymax = 3.0\n",
    "        ax.set_title('error graph, test error: {}'.format(round(test_log[-1],4)))\n",
    "    elif log_type == 'accuracy':\n",
    "        train_log = np.array(logs['train_accuracy'])\n",
    "        valid_log = np.array(logs['valid_accuracy'])\n",
    "        test_log = np.array(logs['test_accuracy'])\n",
    "        ymin = 0.0\n",
    "        ymax = 1.0\n",
    "        ax.set_title('accruacy graph, test accruacy: {}'.format(round(test_log[-1],4)))\n",
    "    \n",
    "    ax.plot(train_log.nonzero()[0], train_log[train_log.nonzero()[0]], label='train')\n",
    "    ax.plot(valid_log.nonzero()[0], valid_log[valid_log.nonzero()[0]], label='valid')\n",
    "#     ax.scatter(test_log.nonzero()[0], test_log[test_error.nonzero()[0]], s=100, color='red', label='test')\n",
    "    \n",
    "    ax.set_ylim([ymin, ymax])\n",
    "    ax.legend()"
   ]
  },
  {
   "cell_type": "code",
   "execution_count": null,
   "metadata": {},
   "outputs": [],
   "source": [
    "filename = './output/miniimagenet_GR_beta_1e-4_gamma_6.0/logs/logs.csv'\n",
    "logs = pd.read_csv(filename)\n",
    "\n",
    "fig, axes = plt.subplots(1, 2, sharey=False, figsize=(16, 8))\n",
    "\n",
    "plot_logs(log_type='error', logs=logs, ax=axes[0])\n",
    "plot_logs(log_type='accuracy', logs=logs, ax=axes[1])\n",
    "\n",
    "plt.show()\n",
    "plt.close()"
   ]
  }
 ],
 "metadata": {
  "kernelspec": {
   "display_name": "Python 3",
   "language": "python",
   "name": "python3"
  },
  "language_info": {
   "codemirror_mode": {
    "name": "ipython",
    "version": 3
   },
   "file_extension": ".py",
   "mimetype": "text/x-python",
   "name": "python",
   "nbconvert_exporter": "python",
   "pygments_lexer": "ipython3",
   "version": "3.7.3"
  }
 },
 "nbformat": 4,
 "nbformat_minor": 4
}
