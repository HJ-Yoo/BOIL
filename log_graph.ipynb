{
 "cells": [
  {
   "cell_type": "code",
   "execution_count": null,
   "metadata": {},
   "outputs": [],
   "source": [
    "import os\n",
    "import numpy as np\n",
    "import pandas as pd\n",
    "import matplotlib.pyplot as plt"
   ]
  },
  {
   "cell_type": "code",
   "execution_count": null,
   "metadata": {},
   "outputs": [],
   "source": [
    "def plot_logs(log_type, logs, ax):\n",
    "    if log_type == 'error':\n",
    "        train_log = np.array(logs['train_error'])\n",
    "        valid_log = np.array(logs['valid_error'])\n",
    "        test_log = np.array(logs['test_error'])\n",
    "        ymin = 0.0\n",
    "        ymax = 3.0\n",
    "        ax.set_title('error graph, test error: {}'.format(round(test_log[-1],4)))\n",
    "    elif log_type == 'accuracy':\n",
    "        train_log = np.array(logs['train_accuracy'])\n",
    "        valid_log = np.array(logs['valid_accuracy'])\n",
    "        test_log = np.array(logs['test_accuracy'])\n",
    "        ymin = 0.0\n",
    "        ymax = 1.0\n",
    "        ax.set_title('accruacy graph, test accruacy: {}'.format(round(test_log[-1],4)))\n",
    "    \n",
    "    ax.plot(train_log.nonzero()[0], train_log[train_log.nonzero()[0]], label='train')\n",
    "    ax.plot(valid_log.nonzero()[0], valid_log[valid_log.nonzero()[0]], label='valid')\n",
    "    ax.scatter(test_log.nonzero()[0], test_log[test_log.nonzero()[0]], s=100, color='red', label='test')\n",
    "    \n",
    "    ax.set_ylim([ymin, ymax])\n",
    "    ax.legend()\n",
    "\n",
    "def plot_diff_logs(filename1, filename2):\n",
    "    fig, axes = plt.subplots(1, 2, sharey=False, figsize=(16,8))\n",
    "    \n",
    "    file1_logs = pd.read_csv(filename1)\n",
    "    file1_error_logs = np.array(file1_logs['valid_error'])\n",
    "    file1_accuracy_logs = np.array(file1_logs['valid_accuracy'])\n",
    "    \n",
    "    file2_logs = pd.read_csv(filename2)\n",
    "    file2_error_logs = np.array(file2_logs['valid_error'])\n",
    "    file2_accuracy_logs = np.array(file2_logs['valid_accuracy'])\n",
    "    \n",
    "    axes[0].plot(file1_error_logs.nonzero()[0], file1_error_logs[file1_error_logs.nonzero()[0]], label=\"_\".join(filename1.split(\"/\")[2].split(\"_\")[1:]))\n",
    "    axes[0].plot(file2_error_logs.nonzero()[0], file2_error_logs[file2_error_logs.nonzero()[0]], label=\"_\".join(filename2.split(\"/\")[2].split(\"_\")[1:]))\n",
    "    axes[0].set_ylim([0.0, 3.0])\n",
    "    axes[0].legend()\n",
    "    \n",
    "    axes[1].plot(file1_accuracy_logs.nonzero()[0], file1_accuracy_logs[file1_accuracy_logs.nonzero()[0]], label=\"_\".join(filename1.split(\"/\")[2].split(\"_\")[1:]))\n",
    "    axes[1].plot(file2_accuracy_logs.nonzero()[0], file2_accuracy_logs[file2_accuracy_logs.nonzero()[0]], label=\"_\".join(filename2.split(\"/\")[2].split(\"_\")[1:]))\n",
    "    axes[1].set_ylim([0.0, 1.0])\n",
    "    axes[1].legend()\n",
    "    \n",
    "    plt.show()\n",
    "    plt.close()"
   ]
  },
  {
   "cell_type": "code",
   "execution_count": null,
   "metadata": {},
   "outputs": [],
   "source": [
    "path = './output/'\n",
    "file_list = os.listdir(path)\n",
    "file_list = sorted([f for f in file_list if 'miniimagenet' in f])\n",
    "print (file_list)"
   ]
  },
  {
   "cell_type": "code",
   "execution_count": null,
   "metadata": {},
   "outputs": [],
   "source": [
    "filename = './output/{}/logs/logs.csv'.format(file_list[7])\n",
    "logs = pd.read_csv(filename)\n",
    "\n",
    "fig, axes = plt.subplots(1, 2, sharey=False, figsize=(16, 8))\n",
    "\n",
    "plot_logs(log_type='error', logs=logs, ax=axes[0])\n",
    "plot_logs(log_type='accuracy', logs=logs, ax=axes[1])\n",
    "\n",
    "plt.suptitle(filename.split(\"/\")[2])\n",
    "plt.show()\n",
    "plt.close()"
   ]
  },
  {
   "cell_type": "code",
   "execution_count": null,
   "metadata": {},
   "outputs": [],
   "source": [
    "filename1 = './output/{}/logs/logs.csv'.format(file_list[0])\n",
    "filename2 = './output/{}/logs/logs.csv'.format(file_list[7])\n",
    "plot_diff_logs(filename1, filename2)"
   ]
  },
  {
   "cell_type": "code",
   "execution_count": null,
   "metadata": {},
   "outputs": [],
   "source": []
  }
 ],
 "metadata": {
  "kernelspec": {
   "display_name": "Python 3",
   "language": "python",
   "name": "python3"
  },
  "language_info": {
   "codemirror_mode": {
    "name": "ipython",
    "version": 3
   },
   "file_extension": ".py",
   "mimetype": "text/x-python",
   "name": "python",
   "nbconvert_exporter": "python",
   "pygments_lexer": "ipython3",
   "version": "3.7.6"
  }
 },
 "nbformat": 4,
 "nbformat_minor": 4
}
